{
 "cells": [
  {
   "cell_type": "code",
   "execution_count": 7,
   "metadata": {},
   "outputs": [
    {
     "name": "stdout",
     "output_type": "stream",
     "text": [
      "PLINK v2.00a5.10 M1 (5 Jan 2024)               www.cog-genomics.org/plink/2.0/\n",
      "(C) 2005-2024 Shaun Purcell, Christopher Chang   GNU General Public License v3\n",
      "Logging to data/pgen/.log.\n",
      "Options in effect:\n",
      "  --make-pgen\n",
      "  --out data/pgen/\n",
      "  --vcf data/vcf/ALL.chr1.phase3_shapeit2_mvncall_integrated_v5b.20130502.genotypes.vcf.gz\n",
      "\n",
      "Start time: Sat Mar  2 17:52:34 2024\n",
      "32768 MiB RAM detected; reserving 16384 MiB for main workspace.\n",
      "Using up to 10 threads (change this with --threads).\n",
      "--vcf: 6468094 variants scanned.\n",
      "--vcf: data/pgen/-temporary.pgen + data/pgen/-temporary.pvar.zst +\n",
      "data/pgen/-temporary.psam written.\n",
      "2504 samples (0 females, 0 males, 2504 ambiguous; 2504 founders) loaded from\n",
      "data/pgen/-temporary.psam.\n",
      "6468094 variants loaded from data/pgen/-temporary.pvar.zst.\n",
      "Note: No phenotype data present.\n",
      "Writing data/pgen/.psam ... done.\n",
      "Writing data/pgen/.pvar ... 10101111121213131414151516161717181819192020212122222323242425252626272728282929303031313232333334343535363637373838393940404141424243434444454546464747484849505051515252535354545555565657575858595960606161626263636464656566666767686869697070717172727373747475757676777778787979808081818282838384848585868687878888898990909191929293939494959596969797989899done.\n",
      "Writing data/pgen/.pgen ... 1215182124273033363942454851545760636669727579828588919497done.\n",
      "End time: Sat Mar  2 17:53:09 2024\n"
     ]
    }
   ],
   "source": [
    "%%bash\n",
    "\n",
    "VCF=data/vcf/ALL.chr1.phase3_shapeit2_mvncall_integrated_v5b.20130502.genotypes.vcf.gz\n",
    "OUT=data/pgen/\n",
    "\n",
    "./plink2 \\\n",
    "    --vcf $VCF \\\n",
    "    --make-pgen \\\n",
    "    --out $OUT"
   ]
  }
 ],
 "metadata": {
  "kernelspec": {
   "display_name": "base",
   "language": "python",
   "name": "python3"
  },
  "language_info": {
   "codemirror_mode": {
    "name": "ipython",
    "version": 3
   },
   "file_extension": ".py",
   "mimetype": "text/x-python",
   "name": "python",
   "nbconvert_exporter": "python",
   "pygments_lexer": "ipython3",
   "version": "3.10.9"
  }
 },
 "nbformat": 4,
 "nbformat_minor": 2
}
